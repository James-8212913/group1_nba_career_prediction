{
 "cells": [
  {
   "cell_type": "markdown",
   "id": "37efae11",
   "metadata": {},
   "source": [
    "## Data has already been normalised with all outliers removed. The intent is to build a log regression classification model."
   ]
  },
  {
   "cell_type": "code",
   "execution_count": 199,
   "id": "3d107805",
   "metadata": {},
   "outputs": [],
   "source": [
    "## Import Libraries \n",
    "import numpy as np\n",
    "import pandas as pd\n",
    "from matplotlib import pyplot as plt\n",
    "import seaborn as sns\n",
    "from sklearn.model_selection import train_test_split \n",
    "from sklearn.model_selection import GridSearchCV\n",
    "from sklearn.linear_model import LogisticRegression as LR\n",
    "from sklearn.metrics import accuracy_score, classification_report, confusion_matrix\n",
    "from sklearn import preprocessing as pp\n",
    "from imblearn.over_sampling import SMOTE as smt "
   ]
  },
  {
   "cell_type": "code",
   "execution_count": 334,
   "id": "a1648234",
   "metadata": {},
   "outputs": [
    {
     "data": {
      "text/plain": [
       "Index(['Id', 'GP', 'FG%', '3P Made', '3PA', '3P%', 'FT%', 'BLK', 'AST', 'DREB',\n",
       "       'FTM', 'REB', 'OREB', 'FTA', 'FGM', 'PTS', 'FGA', 'STL', 'TOV', 'MIN',\n",
       "       'TARGET_5Yrs'],\n",
       "      dtype='object')"
      ]
     },
     "execution_count": 334,
     "metadata": {},
     "output_type": "execute_result"
    }
   ],
   "source": [
    "## Import processed data from the processed folder in the project\n",
    "\n",
    "path = '/Users/james/projects/adsi/group1_nba_career_prediction/data/processed'\n",
    "df_train = pd.read_csv(path+'/df_train_norm_outlier.csv')\n",
    "# Get columns names to inform model building \n",
    "df_train.columns"
   ]
  },
  {
   "cell_type": "code",
   "execution_count": 153,
   "id": "615c365a",
   "metadata": {},
   "outputs": [
    {
     "name": "stdout",
     "output_type": "stream",
     "text": [
      "      GP  3PA  BLK       AST      DREB       FTM       REB      OREB  \\\n",
      "0     80  0.3  0.2  1.473613  1.259921  1.259921  1.560491  1.300591   \n",
      "1     75 -1.0  0.6  0.887904  1.546680  1.338866  1.875777  1.532619   \n",
      "2     85  1.2  0.2  0.928318  1.216440  0.736806  1.338866  0.843433   \n",
      "3     63  0.8  0.1  1.216440  1.259921  0.965489  1.442250  0.928318   \n",
      "4     63  1.4  0.6  0.736806  1.392477  0.584804  1.698499  1.338866   \n",
      "...   ..  ...  ...       ...       ...       ...       ...       ...   \n",
      "7995  32 -0.2  0.2  0.793701  1.216440  0.736806  1.238562  0.669433   \n",
      "7996  54  0.1  0.3  0.464159  1.032280  0.584804  1.259921  1.000000   \n",
      "7997  85  0.6  0.2  1.503695  1.280579  1.409460  1.458100  1.000000   \n",
      "7998  39 -0.5  0.3  0.584804  0.843433  0.843433  0.965489  0.736806   \n",
      "7999  49  2.4 -0.3  1.518294  1.032280  0.928318  1.062659  0.464159   \n",
      "\n",
      "           FTA       FGM       PTS       FGA       STL       TOV       MIN  \n",
      "0     1.426043  1.442250  1.983192  1.856636  1.032280  1.169607  2.896468  \n",
      "1     1.532619  1.613429  2.189760  1.991632  0.793701  1.118689  2.793522  \n",
      "2     0.843433  1.238562  1.650964  1.650964  0.736806  0.843433  2.673075  \n",
      "3     1.144714  1.518294  2.016530  1.885204  0.736806  1.238562  2.673075  \n",
      "4     0.793701  1.193483  1.546680  1.503695  0.736806  0.887904  2.610999  \n",
      "...        ...       ...       ...       ...       ...       ...       ...  \n",
      "7995  0.843433  0.887904  1.216440  1.216440  0.669433  0.736806  2.095379  \n",
      "7996  0.736806  0.887904  1.216440  1.118689  0.843433  0.669433  1.817121  \n",
      "7997  1.574061  1.587401  2.203575  2.080084  1.062659  1.216440  3.043802  \n",
      "7998  0.887904  1.000000  1.357209  1.320006  0.669433  0.793701  1.974681  \n",
      "7999  1.091393  1.193483  1.686865  1.721301  0.965489  1.118689  2.677732  \n",
      "\n",
      "[8000 rows x 15 columns]\n",
      "0       1\n",
      "1       1\n",
      "2       1\n",
      "3       1\n",
      "4       1\n",
      "       ..\n",
      "7995    1\n",
      "7996    1\n",
      "7997    1\n",
      "7998    1\n",
      "7999    1\n",
      "Name: TARGET_5Yrs, Length: 8000, dtype: int64\n"
     ]
    }
   ],
   "source": [
    "preds = df_train[['GP', '3PA', 'BLK', 'AST', 'DREB','FTM', 'REB', 'OREB', 'FTA', 'FGM', 'PTS', 'FGA', 'STL', 'TOV', 'MIN']]\n",
    "tgt = df_train['TARGET_5Yrs']\n",
    "print(preds)\n",
    "print(tgt)"
   ]
  },
  {
   "cell_type": "code",
   "execution_count": 154,
   "id": "a183379a",
   "metadata": {},
   "outputs": [
    {
     "data": {
      "text/plain": [
       "888     1\n",
       "6085    1\n",
       "5607    1\n",
       "2348    1\n",
       "4526    1\n",
       "       ..\n",
       "4294    1\n",
       "5000    1\n",
       "4612    1\n",
       "4672    1\n",
       "5392    1\n",
       "Name: TARGET_5Yrs, Length: 1600, dtype: int64"
      ]
     },
     "execution_count": 154,
     "metadata": {},
     "output_type": "execute_result"
    }
   ],
   "source": [
    "# Split the Data into test and train sets\n",
    "\n",
    "preds_train, preds_test, tgt_train, tgt_test = train_test_split(preds, tgt, test_size=0.20, random_state=5, stratify=tgt)\n",
    "preds_train\n",
    "tgt_test"
   ]
  },
  {
   "cell_type": "code",
   "execution_count": 237,
   "id": "fedd711e",
   "metadata": {},
   "outputs": [
    {
     "data": {
      "text/plain": [
       "array([[-0.66421003, -1.09416563,  0.35980865, ...,  0.75918561,\n",
       "        -0.78126502, -1.01640658],\n",
       "       [ 0.55297109,  0.58330729, -0.12366298, ...,  0.32127878,\n",
       "        -0.04759224,  0.91964283],\n",
       "       [ 2.01358843, -0.30476661, -0.12366298, ...,  1.6238734 ,\n",
       "         2.63660362,  2.38614824],\n",
       "       ...,\n",
       "       [-1.02936436,  0.28728266, -0.60713461, ..., -0.91181388,\n",
       "        -0.04759224, -0.73343523],\n",
       "       [ 0.30953486, -1.39019026, -0.12366298, ..., -0.21042377,\n",
       "        -1.00725399, -0.89634344],\n",
       "       [-0.29905569,  0.78065704, -0.60713461, ...,  0.070274  ,\n",
       "         0.25279976,  0.48725666]])"
      ]
     },
     "execution_count": 237,
     "metadata": {},
     "output_type": "execute_result"
    }
   ],
   "source": [
    "## Create a scaler for the data \n",
    "\n",
    "scaler = pp.StandardScaler().fit(preds_train)\n",
    "preds_scaled = scaler.transform(preds_train)\n",
    "preds_scaled"
   ]
  },
  {
   "cell_type": "code",
   "execution_count": 238,
   "id": "1bdcd1fd",
   "metadata": {},
   "outputs": [
    {
     "name": "stdout",
     "output_type": "stream",
     "text": [
      "6400 10670\n",
      "6400 10670\n"
     ]
    },
    {
     "data": {
      "text/plain": [
       "(       GP       3PA       BLK       AST      DREB       FTM       REB  \\\n",
       " 0      52 -0.300000  0.300000  0.965489  0.965489  0.736806  1.144714   \n",
       " 1      72  1.400000  0.200000  1.320006  1.392477  1.238562  1.503695   \n",
       " 2      96  0.500000  0.200000  1.473613  1.885204  1.532619  1.930979   \n",
       " 3      53 -0.500000  0.600000  1.032280  1.032280  0.928318  1.216440   \n",
       " 4      88 -0.100000  0.400000  1.091393  1.626133  1.698499  1.817121   \n",
       " ...    ..       ...       ...       ...       ...       ...       ...   \n",
       " 10665  70  0.456758  0.249249  0.702614  1.345987  0.982486  1.625323   \n",
       " 10666  72 -1.013173  0.028942  1.489173  1.300584  1.231516  1.482170   \n",
       " 10667  55  2.057091  0.168826  1.136601  0.817595  0.809204  0.893221   \n",
       " 10668  72 -0.490404  0.203199  1.313840  1.183648  1.060494  1.352572   \n",
       " 10669  52  1.008370 -0.094978  1.355223  1.090403  0.844854  1.258809   \n",
       " \n",
       "            OREB       FTA       FGM       PTS       FGA       STL       TOV  \\\n",
       " 0      0.843433  0.843433  0.965489  1.320006  1.300591  0.965489  0.887904   \n",
       " 1      0.887904  1.375069  1.600521  2.175767  2.016530  0.887904  1.032280   \n",
       " 2      1.062659  1.721301  1.875777  2.540668  2.466212  1.118689  1.560491   \n",
       " 3      0.928318  1.091393  1.193483  1.626133  1.546680  0.669433  1.032280   \n",
       " 4      1.193483  1.846915  2.102944  2.818919  2.644786  1.216440  1.426043   \n",
       " ...         ...       ...       ...       ...       ...       ...       ...   \n",
       " 10665  1.259921  1.157348  1.347951  1.811895  1.806291  0.734078  1.015898   \n",
       " 10666  0.961903  1.381408  1.345762  1.848949  1.779021  0.873327  1.295179   \n",
       " 10667  0.911937  0.911773  1.118689  1.582309  1.570337  0.549153  0.887904   \n",
       " 10668  0.940312  1.212512  1.276846  1.744749  1.672566  0.785561  1.145697   \n",
       " 10669  0.841648  0.999422  1.301232  1.776330  1.744054  0.739336  1.112296   \n",
       " \n",
       "             MIN  \n",
       " 0      2.168703  \n",
       " 1      2.951058  \n",
       " 2      3.543671  \n",
       " 3      2.369285  \n",
       " 4      3.674181  \n",
       " ...         ...  \n",
       " 10665  2.566038  \n",
       " 10666  2.580801  \n",
       " 10667  2.017638  \n",
       " 10668  2.517635  \n",
       " 10669  2.662911  \n",
       " \n",
       " [10670 rows x 15 columns],\n",
       " 0        1\n",
       " 1        0\n",
       " 2        1\n",
       " 3        0\n",
       " 4        1\n",
       "         ..\n",
       " 10665    0\n",
       " 10666    0\n",
       " 10667    0\n",
       " 10668    0\n",
       " 10669    0\n",
       " Name: TARGET_5Yrs, Length: 10670, dtype: int64)"
      ]
     },
     "execution_count": 238,
     "metadata": {},
     "output_type": "execute_result"
    }
   ],
   "source": [
    "## Balance out the TGT set of data using SMOTE from imbalanced-learn\n",
    "\n",
    "sm = smt(random_state = 22)\n",
    "preds_train_smt, tgt_train_smt = sm.fit_resample(preds_train, tgt_train)\n",
    "print(len(tgt_train),len(tgt_train_smt))\n",
    "print(len(preds_train), len(preds_train_smt))\n",
    "preds_train_smt, tgt_train_smt"
   ]
  },
  {
   "cell_type": "code",
   "execution_count": 226,
   "id": "1d531377",
   "metadata": {},
   "outputs": [
    {
     "data": {
      "text/plain": [
       "LogisticRegression(max_iter=10000)"
      ]
     },
     "execution_count": 226,
     "metadata": {},
     "output_type": "execute_result"
    }
   ],
   "source": [
    "## Create a model and train it\n",
    "\n",
    "log_mod = LR(max_iter = 10000)\n",
    "log_mod"
   ]
  },
  {
   "cell_type": "code",
   "execution_count": 227,
   "id": "f3803b7b",
   "metadata": {},
   "outputs": [],
   "source": [
    "## Find the best number of iterations for the model using cross validation grid search\n",
    "grid={\"C\":np.logspace(-3,3,7), \"penalty\":[\"l1\",\"l2\"]}# l1 lasso l2 ridge\n",
    "grid\n",
    "log_mod_cv=GridSearchCV(log_mod,grid,cv=10)\n"
   ]
  },
  {
   "cell_type": "code",
   "execution_count": 239,
   "id": "eedef8e9",
   "metadata": {},
   "outputs": [
    {
     "name": "stderr",
     "output_type": "stream",
     "text": [
      "/Users/james/projects/adsi/adsi/lib/python3.9/site-packages/sklearn/model_selection/_validation.py:372: FitFailedWarning: \n",
      "70 fits failed out of a total of 140.\n",
      "The score on these train-test partitions for these parameters will be set to nan.\n",
      "If these failures are not expected, you can try to debug them by setting error_score='raise'.\n",
      "\n",
      "Below are more details about the failures:\n",
      "--------------------------------------------------------------------------------\n",
      "70 fits failed with the following error:\n",
      "Traceback (most recent call last):\n",
      "  File \"/Users/james/projects/adsi/adsi/lib/python3.9/site-packages/sklearn/model_selection/_validation.py\", line 680, in _fit_and_score\n",
      "    estimator.fit(X_train, y_train, **fit_params)\n",
      "  File \"/Users/james/projects/adsi/adsi/lib/python3.9/site-packages/sklearn/linear_model/_logistic.py\", line 1461, in fit\n",
      "    solver = _check_solver(self.solver, self.penalty, self.dual)\n",
      "  File \"/Users/james/projects/adsi/adsi/lib/python3.9/site-packages/sklearn/linear_model/_logistic.py\", line 447, in _check_solver\n",
      "    raise ValueError(\n",
      "ValueError: Solver lbfgs supports only 'l2' or 'none' penalties, got l1 penalty.\n",
      "\n",
      "  warnings.warn(some_fits_failed_message, FitFailedWarning)\n",
      "/Users/james/projects/adsi/adsi/lib/python3.9/site-packages/sklearn/model_selection/_search.py:969: UserWarning: One or more of the test scores are non-finite: [       nan 0.8334375         nan 0.83375           nan 0.83421875\n",
      "        nan 0.83390625        nan 0.83375           nan 0.83359375\n",
      "        nan 0.83359375]\n",
      "  warnings.warn(\n"
     ]
    }
   ],
   "source": [
    "## Train the model\n",
    "\n",
    "#fit_log_mod = clf.fit(preds_train_smt, tgt_train_smt)\n",
    "#fit_log_mod\n",
    "\n",
    "fit_cv_log_mod = log_mod_cv.fit(preds_train, tgt_train)"
   ]
  },
  {
   "cell_type": "code",
   "execution_count": 240,
   "id": "81dc35f2",
   "metadata": {},
   "outputs": [
    {
     "name": "stdout",
     "output_type": "stream",
     "text": [
      "tuned hpyerparameters :(best parameters)  {'C': 0.1, 'penalty': 'l2'}\n",
      "accuracy : 0.83421875\n"
     ]
    }
   ],
   "source": [
    "print(\"tuned hpyerparameters :(best parameters) \",fit_cv_log_mod.best_params_)\n",
    "print(\"accuracy :\",fit_cv_log_mod.best_score_)"
   ]
  },
  {
   "cell_type": "code",
   "execution_count": 246,
   "id": "4b54be74",
   "metadata": {},
   "outputs": [
    {
     "name": "stdout",
     "output_type": "stream",
     "text": [
      "The training accuracy for the model is: 83.390625\n"
     ]
    }
   ],
   "source": [
    "## Check the results \n",
    "\n",
    "train_acc = fit_cv_log_mod.score(preds_train, tgt_train)\n",
    "print('The training accuracy for the model is: {}'.format(train_acc*100))\n",
    "\n",
    "## This is not a great result - it may need more or less features in it"
   ]
  },
  {
   "cell_type": "code",
   "execution_count": 247,
   "id": "7fcb63d9",
   "metadata": {},
   "outputs": [
    {
     "data": {
      "text/plain": [
       "1600"
      ]
     },
     "execution_count": 247,
     "metadata": {},
     "output_type": "execute_result"
    }
   ],
   "source": [
    "## Make predictions on the test set\n",
    "tgt_preds = fit_cv_log_mod.predict(preds_test)\n",
    "len(tgt_preds)"
   ]
  },
  {
   "cell_type": "code",
   "execution_count": 248,
   "id": "1b47e3dd",
   "metadata": {},
   "outputs": [
    {
     "name": "stdout",
     "output_type": "stream",
     "text": [
      "The testing accuracy for the model is: 83.5625\n"
     ]
    }
   ],
   "source": [
    "## Check the results in the test model \n",
    "\n",
    "test_acc = accuracy_score(tgt_test, tgt_preds)\n",
    "print('The testing accuracy for the model is: {}'.format(test_acc*100))"
   ]
  },
  {
   "cell_type": "code",
   "execution_count": 249,
   "id": "3c85d981",
   "metadata": {},
   "outputs": [
    {
     "name": "stdout",
     "output_type": "stream",
     "text": [
      "              precision    recall  f1-score   support\n",
      "\n",
      "           0       0.62      0.03      0.06       266\n",
      "           1       0.84      1.00      0.91      1334\n",
      "\n",
      "    accuracy                           0.84      1600\n",
      "   macro avg       0.73      0.51      0.48      1600\n",
      "weighted avg       0.80      0.84      0.77      1600\n",
      "\n"
     ]
    }
   ],
   "source": [
    "## Get a classification report\n",
    "\n",
    "print(classification_report(tgt_test, tgt_preds))"
   ]
  },
  {
   "cell_type": "code",
   "execution_count": 250,
   "id": "9934a911",
   "metadata": {},
   "outputs": [
    {
     "data": {
      "image/png": "[encoded data removed]",
      "text/plain": [
       "<Figure size 864x432 with 2 Axes>"
      ]
     },
     "metadata": {
      "needs_background": "light"
     },
     "output_type": "display_data"
    }
   ],
   "source": [
    "cm=confusion_matrix(tgt_test,tgt_preds)\n",
    "plt.figure(figsize=(12,6))\n",
    "plt.title(\"Confusion Matrix\")\n",
    "sns.heatmap(cm, annot=True,fmt='d', cmap='Blues')\n",
    "plt.ylabel(\"Actual Values\")\n",
    "plt.xlabel(\"Predicted Values\")\n",
    "plt.savefig('confusion_matrix.png')"
   ]
  },
  {
   "cell_type": "code",
   "execution_count": 251,
   "id": "25fd292c",
   "metadata": {},
   "outputs": [
    {
     "data": {
      "text/plain": [
       "Index(['Id', 'GP', 'FG%', '3P Made', '3PA', '3P%', 'FT%', 'BLK', 'AST', 'DREB',\n",
       "       'FTM', 'REB', 'OREB', 'FTA', 'FGM', 'PTS', 'FGA', 'STL', 'TOV', 'MIN'],\n",
       "      dtype='object')"
      ]
     },
     "execution_count": 251,
     "metadata": {},
     "output_type": "execute_result"
    }
   ],
   "source": [
    "## Import test data set\n",
    "\n",
    "path = '/Users/james/projects/adsi/group1_nba_career_prediction/data/processed'\n",
    "df_test = pd.read_csv(path+'/df_test_norm_outlier.csv')\n",
    "# Get columns names to inform model building \n",
    "df_test.columns"
   ]
  },
  {
   "cell_type": "code",
   "execution_count": 266,
   "id": "9c59fa38",
   "metadata": {},
   "outputs": [
    {
     "data": {
      "text/html": [
       "<div>\n",
       "<style scoped>\n",
       "    .dataframe tbody tr th:only-of-type {\n",
       "        vertical-align: middle;\n",
       "    }\n",
       "\n",
       "    .dataframe tbody tr th {\n",
       "        vertical-align: top;\n",
       "    }\n",
       "\n",
       "    .dataframe thead th {\n",
       "        text-align: right;\n",
       "    }\n",
       "</style>\n",
       "<table border=\"1\" class=\"dataframe\">\n",
       "  <thead>\n",
       "    <tr style=\"text-align: right;\">\n",
       "      <th></th>\n",
       "      <th>GP</th>\n",
       "      <th>3PA</th>\n",
       "      <th>BLK</th>\n",
       "      <th>AST</th>\n",
       "      <th>DREB</th>\n",
       "      <th>FTM</th>\n",
       "      <th>REB</th>\n",
       "      <th>OREB</th>\n",
       "      <th>FTA</th>\n",
       "      <th>FGM</th>\n",
       "      <th>PTS</th>\n",
       "      <th>FGA</th>\n",
       "      <th>STL</th>\n",
       "      <th>TOV</th>\n",
       "      <th>MIN</th>\n",
       "    </tr>\n",
       "  </thead>\n",
       "  <tbody>\n",
       "    <tr>\n",
       "      <th>0</th>\n",
       "      <td>56</td>\n",
       "      <td>0.3</td>\n",
       "      <td>0.3</td>\n",
       "      <td>0.736806</td>\n",
       "      <td>0.928318</td>\n",
       "      <td>0.887904</td>\n",
       "      <td>1.193483</td>\n",
       "      <td>1.062659</td>\n",
       "      <td>1.062659</td>\n",
       "      <td>1.169607</td>\n",
       "      <td>1.587401</td>\n",
       "      <td>1.546680</td>\n",
       "      <td>0.584804</td>\n",
       "      <td>0.928318</td>\n",
       "      <td>2.087759</td>\n",
       "    </tr>\n",
       "    <tr>\n",
       "      <th>1</th>\n",
       "      <td>43</td>\n",
       "      <td>1.7</td>\n",
       "      <td>-0.0</td>\n",
       "      <td>1.518294</td>\n",
       "      <td>0.965489</td>\n",
       "      <td>1.216440</td>\n",
       "      <td>1.144714</td>\n",
       "      <td>0.793701</td>\n",
       "      <td>1.357209</td>\n",
       "      <td>1.546680</td>\n",
       "      <td>2.161592</td>\n",
       "      <td>2.008299</td>\n",
       "      <td>0.843433</td>\n",
       "      <td>1.216440</td>\n",
       "      <td>2.682373</td>\n",
       "    </tr>\n",
       "    <tr>\n",
       "      <th>2</th>\n",
       "      <td>82</td>\n",
       "      <td>1.9</td>\n",
       "      <td>0.3</td>\n",
       "      <td>1.357209</td>\n",
       "      <td>1.488806</td>\n",
       "      <td>1.216440</td>\n",
       "      <td>1.650964</td>\n",
       "      <td>1.091393</td>\n",
       "      <td>1.392477</td>\n",
       "      <td>1.698499</td>\n",
       "      <td>2.244017</td>\n",
       "      <td>2.196689</td>\n",
       "      <td>1.091393</td>\n",
       "      <td>1.259921</td>\n",
       "      <td>3.236433</td>\n",
       "    </tr>\n",
       "    <tr>\n",
       "      <th>3</th>\n",
       "      <td>86</td>\n",
       "      <td>1.8</td>\n",
       "      <td>0.1</td>\n",
       "      <td>1.600521</td>\n",
       "      <td>1.473613</td>\n",
       "      <td>1.650964</td>\n",
       "      <td>1.709976</td>\n",
       "      <td>1.144714</td>\n",
       "      <td>1.846915</td>\n",
       "      <td>1.894536</td>\n",
       "      <td>2.659006</td>\n",
       "      <td>2.514581</td>\n",
       "      <td>0.965489</td>\n",
       "      <td>1.532619</td>\n",
       "      <td>3.548971</td>\n",
       "    </tr>\n",
       "    <tr>\n",
       "      <th>4</th>\n",
       "      <td>58</td>\n",
       "      <td>1.7</td>\n",
       "      <td>0.2</td>\n",
       "      <td>1.144714</td>\n",
       "      <td>0.843433</td>\n",
       "      <td>1.032280</td>\n",
       "      <td>0.965489</td>\n",
       "      <td>0.584804</td>\n",
       "      <td>1.091393</td>\n",
       "      <td>1.169607</td>\n",
       "      <td>1.675069</td>\n",
       "      <td>1.587401</td>\n",
       "      <td>0.793701</td>\n",
       "      <td>0.965489</td>\n",
       "      <td>2.308350</td>\n",
       "    </tr>\n",
       "    <tr>\n",
       "      <th>...</th>\n",
       "      <td>...</td>\n",
       "      <td>...</td>\n",
       "      <td>...</td>\n",
       "      <td>...</td>\n",
       "      <td>...</td>\n",
       "      <td>...</td>\n",
       "      <td>...</td>\n",
       "      <td>...</td>\n",
       "      <td>...</td>\n",
       "      <td>...</td>\n",
       "      <td>...</td>\n",
       "      <td>...</td>\n",
       "      <td>...</td>\n",
       "      <td>...</td>\n",
       "      <td>...</td>\n",
       "    </tr>\n",
       "    <tr>\n",
       "      <th>3794</th>\n",
       "      <td>84</td>\n",
       "      <td>-0.0</td>\n",
       "      <td>0.3</td>\n",
       "      <td>1.144714</td>\n",
       "      <td>1.320006</td>\n",
       "      <td>1.193483</td>\n",
       "      <td>1.574061</td>\n",
       "      <td>1.238562</td>\n",
       "      <td>1.357209</td>\n",
       "      <td>1.503695</td>\n",
       "      <td>2.056710</td>\n",
       "      <td>1.885204</td>\n",
       "      <td>0.843433</td>\n",
       "      <td>1.259921</td>\n",
       "      <td>2.767655</td>\n",
       "    </tr>\n",
       "    <tr>\n",
       "      <th>3795</th>\n",
       "      <td>49</td>\n",
       "      <td>-0.4</td>\n",
       "      <td>0.4</td>\n",
       "      <td>0.736806</td>\n",
       "      <td>1.409460</td>\n",
       "      <td>1.000000</td>\n",
       "      <td>1.638643</td>\n",
       "      <td>1.193483</td>\n",
       "      <td>1.238562</td>\n",
       "      <td>1.426043</td>\n",
       "      <td>1.856636</td>\n",
       "      <td>1.875777</td>\n",
       "      <td>0.736806</td>\n",
       "      <td>0.887904</td>\n",
       "      <td>2.535494</td>\n",
       "    </tr>\n",
       "    <tr>\n",
       "      <th>3796</th>\n",
       "      <td>53</td>\n",
       "      <td>-0.6</td>\n",
       "      <td>0.2</td>\n",
       "      <td>0.736806</td>\n",
       "      <td>1.000000</td>\n",
       "      <td>0.843433</td>\n",
       "      <td>1.193483</td>\n",
       "      <td>0.887904</td>\n",
       "      <td>1.000000</td>\n",
       "      <td>0.928318</td>\n",
       "      <td>1.280579</td>\n",
       "      <td>1.216440</td>\n",
       "      <td>0.736806</td>\n",
       "      <td>0.793701</td>\n",
       "      <td>2.147229</td>\n",
       "    </tr>\n",
       "    <tr>\n",
       "      <th>3797</th>\n",
       "      <td>89</td>\n",
       "      <td>1.2</td>\n",
       "      <td>0.3</td>\n",
       "      <td>1.546680</td>\n",
       "      <td>1.587401</td>\n",
       "      <td>1.357209</td>\n",
       "      <td>1.765174</td>\n",
       "      <td>1.144714</td>\n",
       "      <td>1.426043</td>\n",
       "      <td>1.754411</td>\n",
       "      <td>2.438499</td>\n",
       "      <td>2.276638</td>\n",
       "      <td>1.091393</td>\n",
       "      <td>1.338866</td>\n",
       "      <td>3.370800</td>\n",
       "    </tr>\n",
       "    <tr>\n",
       "      <th>3798</th>\n",
       "      <td>55</td>\n",
       "      <td>0.6</td>\n",
       "      <td>0.2</td>\n",
       "      <td>0.843433</td>\n",
       "      <td>1.259921</td>\n",
       "      <td>0.965489</td>\n",
       "      <td>1.375069</td>\n",
       "      <td>0.887904</td>\n",
       "      <td>1.032280</td>\n",
       "      <td>1.032280</td>\n",
       "      <td>1.442250</td>\n",
       "      <td>1.357209</td>\n",
       "      <td>0.669433</td>\n",
       "      <td>1.062659</td>\n",
       "      <td>2.289428</td>\n",
       "    </tr>\n",
       "  </tbody>\n",
       "</table>\n",
       "<p>3799 rows × 15 columns</p>\n",
       "</div>"
      ],
      "text/plain": [
       "      GP  3PA  BLK       AST      DREB       FTM       REB      OREB  \\\n",
       "0     56  0.3  0.3  0.736806  0.928318  0.887904  1.193483  1.062659   \n",
       "1     43  1.7 -0.0  1.518294  0.965489  1.216440  1.144714  0.793701   \n",
       "2     82  1.9  0.3  1.357209  1.488806  1.216440  1.650964  1.091393   \n",
       "3     86  1.8  0.1  1.600521  1.473613  1.650964  1.709976  1.144714   \n",
       "4     58  1.7  0.2  1.144714  0.843433  1.032280  0.965489  0.584804   \n",
       "...   ..  ...  ...       ...       ...       ...       ...       ...   \n",
       "3794  84 -0.0  0.3  1.144714  1.320006  1.193483  1.574061  1.238562   \n",
       "3795  49 -0.4  0.4  0.736806  1.409460  1.000000  1.638643  1.193483   \n",
       "3796  53 -0.6  0.2  0.736806  1.000000  0.843433  1.193483  0.887904   \n",
       "3797  89  1.2  0.3  1.546680  1.587401  1.357209  1.765174  1.144714   \n",
       "3798  55  0.6  0.2  0.843433  1.259921  0.965489  1.375069  0.887904   \n",
       "\n",
       "           FTA       FGM       PTS       FGA       STL       TOV       MIN  \n",
       "0     1.062659  1.169607  1.587401  1.546680  0.584804  0.928318  2.087759  \n",
       "1     1.357209  1.546680  2.161592  2.008299  0.843433  1.216440  2.682373  \n",
       "2     1.392477  1.698499  2.244017  2.196689  1.091393  1.259921  3.236433  \n",
       "3     1.846915  1.894536  2.659006  2.514581  0.965489  1.532619  3.548971  \n",
       "4     1.091393  1.169607  1.675069  1.587401  0.793701  0.965489  2.308350  \n",
       "...        ...       ...       ...       ...       ...       ...       ...  \n",
       "3794  1.357209  1.503695  2.056710  1.885204  0.843433  1.259921  2.767655  \n",
       "3795  1.238562  1.426043  1.856636  1.875777  0.736806  0.887904  2.535494  \n",
       "3796  1.000000  0.928318  1.280579  1.216440  0.736806  0.793701  2.147229  \n",
       "3797  1.426043  1.754411  2.438499  2.276638  1.091393  1.338866  3.370800  \n",
       "3798  1.032280  1.032280  1.442250  1.357209  0.669433  1.062659  2.289428  \n",
       "\n",
       "[3799 rows x 15 columns]"
      ]
     },
     "execution_count": 266,
     "metadata": {},
     "output_type": "execute_result"
    }
   ],
   "source": [
    "pred_lbl = preds.columns\n",
    "df_test[pred_lbl]"
   ]
  },
  {
   "cell_type": "code",
   "execution_count": 328,
   "id": "ab1bc328",
   "metadata": {},
   "outputs": [
    {
     "data": {
      "text/plain": [
       "3799"
      ]
     },
     "execution_count": 328,
     "metadata": {},
     "output_type": "execute_result"
    }
   ],
   "source": [
    "test_pred_prob_log = fit_cv_log_mod.predict_proba(df_test[pred_lbl])\n",
    "x = test_pred_prob_log[:,1]\n",
    "len(x)\n",
    "len(x)"
   ]
  },
  {
   "cell_type": "code",
   "execution_count": 329,
   "id": "1d904a3b",
   "metadata": {},
   "outputs": [
    {
     "data": {
      "text/html": [
       "<div>\n",
       "<style scoped>\n",
       "    .dataframe tbody tr th:only-of-type {\n",
       "        vertical-align: middle;\n",
       "    }\n",
       "\n",
       "    .dataframe tbody tr th {\n",
       "        vertical-align: top;\n",
       "    }\n",
       "\n",
       "    .dataframe thead th {\n",
       "        text-align: right;\n",
       "    }\n",
       "</style>\n",
       "<table border=\"1\" class=\"dataframe\">\n",
       "  <thead>\n",
       "    <tr style=\"text-align: right;\">\n",
       "      <th></th>\n",
       "      <th>TARGET_5Yrs</th>\n",
       "    </tr>\n",
       "  </thead>\n",
       "  <tbody>\n",
       "    <tr>\n",
       "      <th>0</th>\n",
       "      <td>0.801511</td>\n",
       "    </tr>\n",
       "    <tr>\n",
       "      <th>1</th>\n",
       "      <td>0.750911</td>\n",
       "    </tr>\n",
       "    <tr>\n",
       "      <th>2</th>\n",
       "      <td>0.930788</td>\n",
       "    </tr>\n",
       "    <tr>\n",
       "      <th>3</th>\n",
       "      <td>0.950057</td>\n",
       "    </tr>\n",
       "    <tr>\n",
       "      <th>4</th>\n",
       "      <td>0.767826</td>\n",
       "    </tr>\n",
       "    <tr>\n",
       "      <th>...</th>\n",
       "      <td>...</td>\n",
       "    </tr>\n",
       "    <tr>\n",
       "      <th>3794</th>\n",
       "      <td>0.936996</td>\n",
       "    </tr>\n",
       "    <tr>\n",
       "      <th>3795</th>\n",
       "      <td>0.842460</td>\n",
       "    </tr>\n",
       "    <tr>\n",
       "      <th>3796</th>\n",
       "      <td>0.770981</td>\n",
       "    </tr>\n",
       "    <tr>\n",
       "      <th>3797</th>\n",
       "      <td>0.953664</td>\n",
       "    </tr>\n",
       "    <tr>\n",
       "      <th>3798</th>\n",
       "      <td>0.788216</td>\n",
       "    </tr>\n",
       "  </tbody>\n",
       "</table>\n",
       "<p>3799 rows × 1 columns</p>\n",
       "</div>"
      ],
      "text/plain": [
       "      TARGET_5Yrs\n",
       "0        0.801511\n",
       "1        0.750911\n",
       "2        0.930788\n",
       "3        0.950057\n",
       "4        0.767826\n",
       "...           ...\n",
       "3794     0.936996\n",
       "3795     0.842460\n",
       "3796     0.770981\n",
       "3797     0.953664\n",
       "3798     0.788216\n",
       "\n",
       "[3799 rows x 1 columns]"
      ]
     },
     "execution_count": 329,
     "metadata": {},
     "output_type": "execute_result"
    }
   ],
   "source": [
    "test_pred_prob = pd.DataFrame(test_pred_prob_log[:,1])\n",
    "test_pred_prob.columns = ['TARGET_5Yrs']\n",
    "test_pred_prob"
   ]
  },
  {
   "cell_type": "code",
   "execution_count": 330,
   "id": "d52fbaea",
   "metadata": {},
   "outputs": [
    {
     "data": {
      "text/html": [
       "<div>\n",
       "<style scoped>\n",
       "    .dataframe tbody tr th:only-of-type {\n",
       "        vertical-align: middle;\n",
       "    }\n",
       "\n",
       "    .dataframe tbody tr th {\n",
       "        vertical-align: top;\n",
       "    }\n",
       "\n",
       "    .dataframe thead th {\n",
       "        text-align: right;\n",
       "    }\n",
       "</style>\n",
       "<table border=\"1\" class=\"dataframe\">\n",
       "  <thead>\n",
       "    <tr style=\"text-align: right;\">\n",
       "      <th></th>\n",
       "      <th>TARGET_5Yrs</th>\n",
       "    </tr>\n",
       "  </thead>\n",
       "  <tbody>\n",
       "    <tr>\n",
       "      <th>0</th>\n",
       "      <td>0.801511</td>\n",
       "    </tr>\n",
       "    <tr>\n",
       "      <th>1</th>\n",
       "      <td>0.750911</td>\n",
       "    </tr>\n",
       "    <tr>\n",
       "      <th>2</th>\n",
       "      <td>0.930788</td>\n",
       "    </tr>\n",
       "    <tr>\n",
       "      <th>3</th>\n",
       "      <td>0.950057</td>\n",
       "    </tr>\n",
       "    <tr>\n",
       "      <th>4</th>\n",
       "      <td>0.767826</td>\n",
       "    </tr>\n",
       "    <tr>\n",
       "      <th>...</th>\n",
       "      <td>...</td>\n",
       "    </tr>\n",
       "    <tr>\n",
       "      <th>3794</th>\n",
       "      <td>0.936996</td>\n",
       "    </tr>\n",
       "    <tr>\n",
       "      <th>3795</th>\n",
       "      <td>0.842460</td>\n",
       "    </tr>\n",
       "    <tr>\n",
       "      <th>3796</th>\n",
       "      <td>0.770981</td>\n",
       "    </tr>\n",
       "    <tr>\n",
       "      <th>3797</th>\n",
       "      <td>0.953664</td>\n",
       "    </tr>\n",
       "    <tr>\n",
       "      <th>3798</th>\n",
       "      <td>0.788216</td>\n",
       "    </tr>\n",
       "  </tbody>\n",
       "</table>\n",
       "<p>3799 rows × 1 columns</p>\n",
       "</div>"
      ],
      "text/plain": [
       "      TARGET_5Yrs\n",
       "0        0.801511\n",
       "1        0.750911\n",
       "2        0.930788\n",
       "3        0.950057\n",
       "4        0.767826\n",
       "...           ...\n",
       "3794     0.936996\n",
       "3795     0.842460\n",
       "3796     0.770981\n",
       "3797     0.953664\n",
       "3798     0.788216\n",
       "\n",
       "[3799 rows x 1 columns]"
      ]
     },
     "execution_count": 330,
     "metadata": {},
     "output_type": "execute_result"
    }
   ],
   "source": [
    "Id = pd.DataFrame(df_test['Id'])\n",
    "Id\n",
    "test_pred_prob"
   ]
  },
  {
   "cell_type": "code",
   "execution_count": 331,
   "id": "505c7263",
   "metadata": {},
   "outputs": [
    {
     "data": {
      "text/html": [
       "<div>\n",
       "<style scoped>\n",
       "    .dataframe tbody tr th:only-of-type {\n",
       "        vertical-align: middle;\n",
       "    }\n",
       "\n",
       "    .dataframe tbody tr th {\n",
       "        vertical-align: top;\n",
       "    }\n",
       "\n",
       "    .dataframe thead th {\n",
       "        text-align: right;\n",
       "    }\n",
       "</style>\n",
       "<table border=\"1\" class=\"dataframe\">\n",
       "  <thead>\n",
       "    <tr style=\"text-align: right;\">\n",
       "      <th></th>\n",
       "      <th>Id</th>\n",
       "      <th>TARGET_5Yrs</th>\n",
       "    </tr>\n",
       "  </thead>\n",
       "  <tbody>\n",
       "    <tr>\n",
       "      <th>0</th>\n",
       "      <td>1</td>\n",
       "      <td>0.801511</td>\n",
       "    </tr>\n",
       "    <tr>\n",
       "      <th>1</th>\n",
       "      <td>8194</td>\n",
       "      <td>0.750911</td>\n",
       "    </tr>\n",
       "    <tr>\n",
       "      <th>2</th>\n",
       "      <td>3</td>\n",
       "      <td>0.930788</td>\n",
       "    </tr>\n",
       "    <tr>\n",
       "      <th>3</th>\n",
       "      <td>8196</td>\n",
       "      <td>0.950057</td>\n",
       "    </tr>\n",
       "    <tr>\n",
       "      <th>4</th>\n",
       "      <td>8197</td>\n",
       "      <td>0.767826</td>\n",
       "    </tr>\n",
       "    <tr>\n",
       "      <th>...</th>\n",
       "      <td>...</td>\n",
       "      <td>...</td>\n",
       "    </tr>\n",
       "    <tr>\n",
       "      <th>3794</th>\n",
       "      <td>8175</td>\n",
       "      <td>0.936996</td>\n",
       "    </tr>\n",
       "    <tr>\n",
       "      <th>3795</th>\n",
       "      <td>8176</td>\n",
       "      <td>0.842460</td>\n",
       "    </tr>\n",
       "    <tr>\n",
       "      <th>3796</th>\n",
       "      <td>8178</td>\n",
       "      <td>0.770981</td>\n",
       "    </tr>\n",
       "    <tr>\n",
       "      <th>3797</th>\n",
       "      <td>8181</td>\n",
       "      <td>0.953664</td>\n",
       "    </tr>\n",
       "    <tr>\n",
       "      <th>3798</th>\n",
       "      <td>8183</td>\n",
       "      <td>0.788216</td>\n",
       "    </tr>\n",
       "  </tbody>\n",
       "</table>\n",
       "<p>3799 rows × 2 columns</p>\n",
       "</div>"
      ],
      "text/plain": [
       "        Id  TARGET_5Yrs\n",
       "0        1     0.801511\n",
       "1     8194     0.750911\n",
       "2        3     0.930788\n",
       "3     8196     0.950057\n",
       "4     8197     0.767826\n",
       "...    ...          ...\n",
       "3794  8175     0.936996\n",
       "3795  8176     0.842460\n",
       "3796  8178     0.770981\n",
       "3797  8181     0.953664\n",
       "3798  8183     0.788216\n",
       "\n",
       "[3799 rows x 2 columns]"
      ]
     },
     "execution_count": 331,
     "metadata": {},
     "output_type": "execute_result"
    }
   ],
   "source": [
    "submission = Id.join(test_pred_prob)\n",
    "submission"
   ]
  },
  {
   "cell_type": "code",
   "execution_count": 332,
   "id": "8daf35bb",
   "metadata": {},
   "outputs": [],
   "source": [
    "submission.to_csv('/Users/james/projects/adsi/group1_nba_career_prediction/models/model_4_1.csv', index = False)"
   ]
  }
 ],
 "metadata": {
  "kernelspec": {
   "display_name": "Python 3 (ipykernel)",
   "language": "python",
   "name": "python3"
  },
  "language_info": {
   "codemirror_mode": {
    "name": "ipython",
    "version": 3
   },
   "file_extension": ".py",
   "mimetype": "text/x-python",
   "name": "python",
   "nbconvert_exporter": "python",
   "pygments_lexer": "ipython3",
   "version": "3.9.6"
  }
 },
 "nbformat": 4,
 "nbformat_minor": 5
}
